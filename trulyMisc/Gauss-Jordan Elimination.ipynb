{
 "cells": [
  {
   "cell_type": "code",
   "execution_count": 25,
   "metadata": {},
   "outputs": [],
   "source": [
    "import numpy as np\n",
    "matrix = np.array([[1,3,-2,0,2,0,0],[2,6,-5,-2,4,-3,-1],[0,0,5,10,0,15,5],[2,6,0,8,4,18,6]] ,dtype='float')"
   ]
  },
  {
   "cell_type": "code",
   "execution_count": 28,
   "metadata": {},
   "outputs": [],
   "source": [
    "def interchange(m,r1,r2):\n",
    "    temp = m[r1,:].copy()\n",
    "    m[r1,:] = m[r2,:].copy()\n",
    "    m[r2,:] = temp\n",
    "\n",
    "def multiply(m,r,k):\n",
    "    m[r,:] = m[r:,]*k\n",
    "\n",
    "\n",
    "def add_multiple(m,r1,r2,k):\n",
    "    m[r1,:] = m[r1,:] + m[r2,:]*k"
   ]
  },
  {
   "cell_type": "code",
   "execution_count": null,
   "metadata": {},
   "outputs": [],
   "source": [
    "def gauss_jordan_elimination(m):\n",
    "    r,c = m.shape[0,1]\n",
    "    for i in range(r):\n",
    "        for "
   ]
  }
 ],
 "metadata": {
  "kernelspec": {
   "display_name": "Python 3",
   "language": "python",
   "name": "python3"
  },
  "language_info": {
   "codemirror_mode": {
    "name": "ipython",
    "version": 3
   },
   "file_extension": ".py",
   "mimetype": "text/x-python",
   "name": "python",
   "nbconvert_exporter": "python",
   "pygments_lexer": "ipython3",
   "version": "3.11.0"
  },
  "orig_nbformat": 4
 },
 "nbformat": 4,
 "nbformat_minor": 2
}
