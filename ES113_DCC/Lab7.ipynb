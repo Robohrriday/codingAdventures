{
 "cells": [
  {
   "attachments": {},
   "cell_type": "markdown",
   "metadata": {},
   "source": [
    "# Libraries"
   ]
  },
  {
   "cell_type": "code",
   "execution_count": 1,
   "metadata": {},
   "outputs": [],
   "source": [
    "import numpy as np\n",
    "import pandas as pd\n",
    "import matplotlib.pyplot as plt\n",
    "from sklearn.datasets import load_iris\n",
    "from sklearn.metrics import confusion_matrix,accuracy_score\n",
    "from sklearn.model_selection import train_test_split"
   ]
  },
  {
   "attachments": {},
   "cell_type": "markdown",
   "metadata": {},
   "source": [
    "# Loading dataset"
   ]
  },
  {
   "cell_type": "code",
   "execution_count": 2,
   "metadata": {},
   "outputs": [],
   "source": [
    "data= load_iris()\n",
    "X = data.data\n",
    "y =  data.target"
   ]
  },
  {
   "cell_type": "code",
   "execution_count": 3,
   "metadata": {},
   "outputs": [],
   "source": [
    "X_train, X_test, y_train, y_test = train_test_split(X, y, test_size=0.9,random_state=1)"
   ]
  },
  {
   "attachments": {},
   "cell_type": "markdown",
   "metadata": {},
   "source": [
    "# KNN Algorithm"
   ]
  },
  {
   "cell_type": "code",
   "execution_count": 4,
   "metadata": {},
   "outputs": [
    {
     "name": "stdout",
     "output_type": "stream",
     "text": [
      "[0 0 0 1 1]\n",
      "[1 1 1 0 0]\n",
      "[1 1 1 2 1]\n",
      "[0 0 0 1 1]\n",
      "Confusion Matrix:\n",
      "[[47  0  0]\n",
      " [ 0 39  5]\n",
      " [ 0  2 42]]\n",
      "Accuracy Score: 0.9481481481481482\n"
     ]
    }
   ],
   "source": [
    "final_labels = []\n",
    "for i in range(len(X_test)):\n",
    "    distances = np.zeros(len(X_train))\n",
    "    for j in range(len(X_train)):\n",
    "        distances[j] = np.linalg.norm(X_test[i]-X_train[j])\n",
    "    min_d_indices = np.argsort(distances,axis=0)[:5]\n",
    "    labels = y_train[min_d_indices]\n",
    "    if i in [0,1,2,3]:\n",
    "        print(labels)\n",
    "    d = dict()\n",
    "    for k in labels:\n",
    "        if k not in d.keys():\n",
    "            d[k] = 1\n",
    "        else:\n",
    "            d[k] += 1\n",
    "    for k in d.keys():\n",
    "        if d[k] == max(d.values()):\n",
    "            final_labels.append(k)\n",
    "            break\n",
    "print('Confusion Matrix:')\n",
    "print(confusion_matrix(y_test,final_labels))\n",
    "print('Accuracy Score:', accuracy_score(y_test,final_labels))\n"
   ]
  }
 ],
 "metadata": {
  "kernelspec": {
   "display_name": "Python 3",
   "language": "python",
   "name": "python3"
  },
  "language_info": {
   "codemirror_mode": {
    "name": "ipython",
    "version": 3
   },
   "file_extension": ".py",
   "mimetype": "text/x-python",
   "name": "python",
   "nbconvert_exporter": "python",
   "pygments_lexer": "ipython3",
   "version": "3.11.0"
  },
  "orig_nbformat": 4
 },
 "nbformat": 4,
 "nbformat_minor": 2
}
