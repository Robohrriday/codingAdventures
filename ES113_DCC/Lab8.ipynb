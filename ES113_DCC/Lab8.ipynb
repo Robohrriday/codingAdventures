{
 "cells": [
  {
   "attachments": {},
   "cell_type": "markdown",
   "metadata": {},
   "source": [
    "# Libraries"
   ]
  },
  {
   "cell_type": "code",
   "execution_count": 244,
   "metadata": {},
   "outputs": [],
   "source": [
    "import numpy as np\n",
    "import pandas as pd\n",
    "import matplotlib.pyplot as plt\n",
    "from sklearn.datasets import load_digits\n",
    "from sklearn.metrics import confusion_matrix,accuracy_score\n",
    "from sklearn.decomposition import PCA\n",
    "from sklearn.preprocessing import StandardScaler\n",
    "from sklearn.cluster import KMeans"
   ]
  },
  {
   "attachments": {},
   "cell_type": "markdown",
   "metadata": {},
   "source": [
    "# Creating dataset"
   ]
  },
  {
   "cell_type": "code",
   "execution_count": 245,
   "metadata": {},
   "outputs": [
    {
     "name": "stdout",
     "output_type": "stream",
     "text": [
      "(1797, 64)\n"
     ]
    }
   ],
   "source": [
    "data = load_digits()\n",
    "X = data.data\n",
    "y = data.target\n",
    "print(X.shape)"
   ]
  },
  {
   "cell_type": "code",
   "execution_count": 246,
   "metadata": {},
   "outputs": [
    {
     "name": "stdout",
     "output_type": "stream",
     "text": [
      "[[ 1.55862325  0.39738512 -1.43167383 ...  0.18501518  0.20726308\n",
      "   1.48846158]\n",
      " [ 0.15425689  0.54293591  0.37019192 ... -0.37994627 -0.3477977\n",
      "   0.8182163 ]\n",
      " [ 0.1024859   1.2292571   0.29902806 ...  0.50447855  2.07548676\n",
      "  -0.45891694]\n",
      " ...\n",
      " [-1.50225468 -0.22765932 -3.21673657 ...  0.13183623  0.07104545\n",
      "  -0.41794237]\n",
      " [-0.5486222  -0.0653705  -0.31687017 ... -0.96351655 -0.1750474\n",
      "  -0.48056637]\n",
      " [ 1.60132289 -0.36940186 -1.46666957 ... -0.62168829 -2.28780645\n",
      "  -0.17232997]]\n"
     ]
    }
   ],
   "source": [
    "noise = np.random.normal(0,1,(1797,64))\n",
    "print(noise)"
   ]
  },
  {
   "cell_type": "code",
   "execution_count": 247,
   "metadata": {},
   "outputs": [
    {
     "data": {
      "image/png": "[encoded data removed]",
      "text/plain": [
       "<Figure size 640x480 with 1 Axes>"
      ]
     },
     "metadata": {},
     "output_type": "display_data"
    }
   ],
   "source": [
    "plt.imshow(X[0].reshape(8,8))\n",
    "plt.title('Clean Image')\n",
    "plt.show()"
   ]
  },
  {
   "cell_type": "code",
   "execution_count": 248,
   "metadata": {},
   "outputs": [
    {
     "name": "stdout",
     "output_type": "stream",
     "text": [
      "[[ 1.55862325  0.39738512  3.56832617 ...  0.18501518  0.20726308\n",
      "   1.48846158]\n",
      " [ 0.15425689  0.54293591  0.37019192 ...  9.62005373 -0.3477977\n",
      "   0.8182163 ]\n",
      " [ 0.1024859   1.2292571   0.29902806 ... 16.50447855 11.07548676\n",
      "  -0.45891694]\n",
      " ...\n",
      " [-1.50225468 -0.22765932 -2.21673657 ...  6.13183623  0.07104545\n",
      "  -0.41794237]\n",
      " [-0.5486222  -0.0653705   1.68312983 ... 11.03648345 -0.1750474\n",
      "  -0.48056637]\n",
      " [ 1.60132289 -0.36940186  8.53333043 ... 11.37831171 -1.28780645\n",
      "  -0.17232997]]\n"
     ]
    }
   ],
   "source": [
    "X_noisy = X + noise\n",
    "print(X_noisy)"
   ]
  },
  {
   "cell_type": "code",
   "execution_count": 249,
   "metadata": {},
   "outputs": [
    {
     "data": {
      "image/png": "[encoded data removed]",
      "text/plain": [
       "<Figure size 640x480 with 1 Axes>"
      ]
     },
     "metadata": {},
     "output_type": "display_data"
    }
   ],
   "source": [
    "plt.imshow(X_noisy[0].reshape(8,8))\n",
    "plt.title('Noisy Image')\n",
    "plt.show()"
   ]
  },
  {
   "attachments": {},
   "cell_type": "markdown",
   "metadata": {},
   "source": [
    "# KMeans Clustering"
   ]
  },
  {
   "cell_type": "code",
   "execution_count": 250,
   "metadata": {},
   "outputs": [],
   "source": [
    "model = KMeans(n_clusters=10,n_init='auto',init = 'k-means++')\n",
    "model.fit(X)\n",
    "pred_labels = model.predict(X_noisy)"
   ]
  },
  {
   "cell_type": "code",
   "execution_count": 251,
   "metadata": {},
   "outputs": [
    {
     "name": "stdout",
     "output_type": "stream",
     "text": [
      "Confusion Matrix:\n",
      "[[  0   0   0   0   0 176   0   0   2   0]\n",
      " [  0   2   0  53   1   0 101  25   0   0]\n",
      " [  2   0  11   2   0   1   3 146   0  12]\n",
      " [  8   0 160   0   2   0   0   3   0  10]\n",
      " [  8   0   0   4   0   0   5   0 162   2]\n",
      " [  0   2  40   0 138   0   0   0   2   0]\n",
      " [  0 176   0   0   0   1   3   0   0   1]\n",
      " [173   0   0   2   0   0   0   0   0   4]\n",
      " [  2   1  13   7   4   0  13   3   0 131]\n",
      " [  7   0 145  20   6   0   0   0   0   2]]\n",
      "Accuracy Score: 0.01001669449081803\n"
     ]
    }
   ],
   "source": [
    "print('Confusion Matrix:')\n",
    "print(confusion_matrix(y,pred_labels))\n",
    "print('Accuracy Score:',accuracy_score(y,pred_labels))"
   ]
  },
  {
   "attachments": {},
   "cell_type": "markdown",
   "metadata": {},
   "source": [
    "# PCA followed by KMeans Clustering"
   ]
  },
  {
   "cell_type": "code",
   "execution_count": 252,
   "metadata": {},
   "outputs": [],
   "source": [
    "scaler = StandardScaler()\n",
    "X_scaled = scaler.fit_transform(X)\n",
    "X_noisy_scaled = scaler.fit_transform(X_noisy)\n",
    "\n",
    "model = PCA(n_components=2)\n",
    "arr = model.fit_transform(X_scaled)\n",
    "arr1 = model.fit_transform(X_noisy_scaled)"
   ]
  },
  {
   "cell_type": "code",
   "execution_count": 253,
   "metadata": {},
   "outputs": [],
   "source": [
    "model = KMeans(n_clusters=10,n_init='auto',init = 'k-means++')\n",
    "model.fit(arr)\n",
    "pred_labels = model.predict(arr1)"
   ]
  },
  {
   "cell_type": "code",
   "execution_count": 254,
   "metadata": {},
   "outputs": [
    {
     "name": "stdout",
     "output_type": "stream",
     "text": [
      "Confusion Matrix:\n",
      "[[115   1   0  53   3   0   0   5   1   0]\n",
      " [  2  27  16   1  76   0   0   0  57   3]\n",
      " [  0  37   1   0   8  99  21   0  11   0]\n",
      " [  4  48  12   0   0  46  64   0   9   0]\n",
      " [  2   0   1   0  20   0   2 152   0   4]\n",
      " [  7  40  11   0  14   1  50   1  58   0]\n",
      " [ 37   0   0 143   1   0   0   0   0   0]\n",
      " [  0   0 117   0  12   0  10   0   8  32]\n",
      " [  5  33  11   0  27   1  21   0  76   0]\n",
      " [  3  84  10   0   6   6  11   0  43  17]]\n",
      "Accuracy Score: 0.14301613800779076\n"
     ]
    }
   ],
   "source": [
    "print('Confusion Matrix:')\n",
    "print(confusion_matrix(y,pred_labels))\n",
    "print('Accuracy Score:',accuracy_score(y,pred_labels))"
   ]
  }
 ],
 "metadata": {
  "kernelspec": {
   "display_name": "Python 3",
   "language": "python",
   "name": "python3"
  },
  "language_info": {
   "codemirror_mode": {
    "name": "ipython",
    "version": 3
   },
   "file_extension": ".py",
   "mimetype": "text/x-python",
   "name": "python",
   "nbconvert_exporter": "python",
   "pygments_lexer": "ipython3",
   "version": "3.11.0"
  },
  "orig_nbformat": 4
 },
 "nbformat": 4,
 "nbformat_minor": 2
}
