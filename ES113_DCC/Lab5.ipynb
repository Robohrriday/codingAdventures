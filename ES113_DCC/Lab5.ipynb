{
 "cells": [
  {
   "attachments": {},
   "cell_type": "markdown",
   "metadata": {},
   "source": [
    "# Libraries"
   ]
  },
  {
   "cell_type": "code",
   "execution_count": 1,
   "metadata": {},
   "outputs": [],
   "source": [
    "import numpy as np\n",
    "import matplotlib.pylab as plt\n",
    "import pandas as pd\n",
    "from sklearn.model_selection import LeaveOneOut\n",
    "from sklearn.linear_model import LinearRegression\n",
    "np.random.seed(42)"
   ]
  },
  {
   "attachments": {},
   "cell_type": "markdown",
   "metadata": {},
   "source": [
    "# Creating Dataset"
   ]
  },
  {
   "cell_type": "code",
   "execution_count": 2,
   "metadata": {},
   "outputs": [],
   "source": [
    "X = np.zeros((100,5))\n",
    "for i in range(100):\n",
    "    X[i] = np.random.randn(5)"
   ]
  },
  {
   "cell_type": "code",
   "execution_count": 3,
   "metadata": {},
   "outputs": [],
   "source": [
    "w = [0.2,0.3,0.4,0.5,0.6]"
   ]
  },
  {
   "cell_type": "code",
   "execution_count": 4,
   "metadata": {},
   "outputs": [],
   "source": [
    "Y = np.zeros((100,1))\n",
    "for i in range(100):\n",
    "    Y[i] = np.dot(w,X[i]) + np.random.randn()"
   ]
  },
  {
   "cell_type": "code",
   "execution_count": 5,
   "metadata": {},
   "outputs": [
    {
     "name": "stdout",
     "output_type": "stream",
     "text": [
      "Outlier Index: 46\n",
      "Value at Outlier index: 15.040171892409113\n"
     ]
    }
   ],
   "source": [
    "outlierindex =  np.random.randint(0,100)\n",
    "Y[outlierindex] = np.dot(w,X[outlierindex]) + 10*np.random.randn()\n",
    "print(f'Outlier Index: {outlierindex}')\n",
    "print(f'Value at Outlier index: {Y[outlierindex][0]}')"
   ]
  },
  {
   "attachments": {},
   "cell_type": "markdown",
   "metadata": {},
   "source": [
    "# Finding Outlier"
   ]
  },
  {
   "cell_type": "code",
   "execution_count": 6,
   "metadata": {},
   "outputs": [
    {
     "name": "stdout",
     "output_type": "stream",
     "text": [
      "Outlier index : 46\n",
      "Value at Outlier Index: [15.04017189]\n",
      "Outlier found :) \n"
     ]
    }
   ],
   "source": [
    "loocv = LeaveOneOut()\n",
    "i = 0\n",
    "errors = np.zeros(100)\n",
    "for train, test in loocv.split(X):\n",
    "    model = LinearRegression()\n",
    "    model.fit(X[train,:],Y[train,:])\n",
    "    pred = model.predict(X[test,:])\n",
    "    error = Y[test,:][0][0] - pred[0][0]\n",
    "    errors[i] = error\n",
    "    i += 1\n",
    "pred_outlier_index = np.argmax(np.abs(errors))\n",
    "print(f'Outlier index : {pred_outlier_index}')\n",
    "print(f'Value at Outlier Index: {Y[pred_outlier_index]}')\n",
    "\n",
    "if pred_outlier_index == outlierindex:\n",
    "    print('Outlier found :) ')\n",
    "else:\n",
    "    print('Outlier not found :(')"
   ]
  },
  {
   "attachments": {},
   "cell_type": "markdown",
   "metadata": {},
   "source": [
    "# 5 outliers !!!"
   ]
  },
  {
   "cell_type": "code",
   "execution_count": 7,
   "metadata": {},
   "outputs": [],
   "source": [
    "Y = np.zeros((100,1))\n",
    "for i in range(100):\n",
    "    Y[i] = np.dot(w,X[i]) + np.random.randn()"
   ]
  },
  {
   "cell_type": "code",
   "execution_count": 8,
   "metadata": {},
   "outputs": [
    {
     "name": "stdout",
     "output_type": "stream",
     "text": [
      "Outlier Indices: [84 18 18 35 28]\n"
     ]
    }
   ],
   "source": [
    "outlierindex =  np.random.randint(0,100,5)\n",
    "for i in outlierindex:\n",
    "    Y[i] = np.dot(w,X[i]) + 10*np.random.randn()\n",
    "print(f'Outlier Indices: {outlierindex}')"
   ]
  },
  {
   "attachments": {},
   "cell_type": "markdown",
   "metadata": {},
   "source": [
    "# Finding Outliers"
   ]
  },
  {
   "cell_type": "code",
   "execution_count": 9,
   "metadata": {},
   "outputs": [
    {
     "name": "stdout",
     "output_type": "stream",
     "text": [
      "Predcited Outlier Indices: [28, 84, 35, 38, 79]\n",
      "Number of errors correctly reported: 3\n"
     ]
    }
   ],
   "source": [
    "loocv = LeaveOneOut()\n",
    "errors = np.zeros(100)\n",
    "i = 0\n",
    "for train, test in loocv.split(X):\n",
    "    model = LinearRegression()\n",
    "    model.fit(X[train,:],Y[train,:])\n",
    "    pred = model.predict(X[test,:])\n",
    "    error = Y[test,:][0][0] - pred[0][0]\n",
    "    errors[i] = error\n",
    "    i += 1\n",
    "worst_error_indices = []\n",
    "for i in range(5):\n",
    "    index = np.argmax(np.abs(errors))\n",
    "    worst_error_indices.append(index)\n",
    "    errors[index] = 0\n",
    "print(f'Predcited Outlier Indices: {worst_error_indices}')\n",
    "print(f'Number of errors correctly reported: {len(set(outlierindex).intersection(set(worst_error_indices)))}')"
   ]
  }
 ],
 "metadata": {
  "kernelspec": {
   "display_name": "Python 3",
   "language": "python",
   "name": "python3"
  },
  "language_info": {
   "codemirror_mode": {
    "name": "ipython",
    "version": 3
   },
   "file_extension": ".py",
   "mimetype": "text/x-python",
   "name": "python",
   "nbconvert_exporter": "python",
   "pygments_lexer": "ipython3",
   "version": "3.11.0"
  },
  "orig_nbformat": 4
 },
 "nbformat": 4,
 "nbformat_minor": 2
}
